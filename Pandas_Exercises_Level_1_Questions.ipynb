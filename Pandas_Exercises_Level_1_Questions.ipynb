{
  "nbformat": 4,
  "nbformat_minor": 0,
  "metadata": {
    "kernelspec": {
      "display_name": "Python 3",
      "language": "python",
      "name": "python3"
    },
    "language_info": {
      "codemirror_mode": {
        "name": "ipython",
        "version": 3
      },
      "file_extension": ".py",
      "mimetype": "text/x-python",
      "name": "python",
      "nbconvert_exporter": "python",
      "pygments_lexer": "ipython3",
      "version": "3.7.0"
    },
    "toc": {
      "base_numbering": 1,
      "nav_menu": {},
      "number_sections": true,
      "sideBar": true,
      "skip_h1_title": false,
      "title_cell": "Table of Contents",
      "title_sidebar": "Contents",
      "toc_cell": false,
      "toc_position": {},
      "toc_section_display": true,
      "toc_window_display": false
    },
    "varInspector": {
      "cols": {
        "lenName": 16,
        "lenType": 16,
        "lenVar": 40
      },
      "kernels_config": {
        "python": {
          "delete_cmd_postfix": "",
          "delete_cmd_prefix": "del ",
          "library": "var_list.py",
          "varRefreshCmd": "print(var_dic_list())"
        },
        "r": {
          "delete_cmd_postfix": ") ",
          "delete_cmd_prefix": "rm(",
          "library": "var_list.r",
          "varRefreshCmd": "cat(var_dic_list()) "
        }
      },
      "types_to_exclude": [
        "module",
        "function",
        "builtin_function_or_method",
        "instance",
        "_Feature"
      ],
      "window_display": false
    },
    "colab": {
      "name": "Pandas Exercises Level 1 - Questions",
      "provenance": [],
      "collapsed_sections": [
        "SHtH4GRMkg_i",
        "7Kg3rmuMkg_i",
        "CSxi0w0Ykg_j",
        "kLsPXR0Skg_j",
        "1LpxGpJLkg_k",
        "YbnVt975kg_l"
      ]
    }
  },
  "cells": [
    {
      "cell_type": "markdown",
      "metadata": {
        "id": "eenvP_yskg_B"
      },
      "source": [
        "\n",
        "\n",
        "# Pandas Series exercises\n"
      ]
    },
    {
      "cell_type": "code",
      "metadata": {
        "id": "Bb-2y7sPkg_R",
        "colab": {
          "base_uri": "https://localhost:8080/"
        },
        "outputId": "6eea30d9-a5b8-425e-e890-1da9ee83ee9f"
      },
      "source": [
        "# Import the numpy package under the name np\n",
        "import numpy as np\n",
        "\n",
        "# Import the pandas package under the name pd\n",
        "import pandas as pd\n",
        "\n",
        "# Print the pandas version and the configuration\n",
        "print(pd.__version__)"
      ],
      "execution_count": null,
      "outputs": [
        {
          "output_type": "stream",
          "name": "stdout",
          "text": [
            "1.3.5\n"
          ]
        }
      ]
    },
    {
      "cell_type": "markdown",
      "metadata": {
        "id": "2OPM_WKEkg_T"
      },
      "source": [
        "\n",
        "\n",
        "## Series creation"
      ]
    },
    {
      "cell_type": "markdown",
      "metadata": {
        "id": "7sFHeoqrkg_U"
      },
      "source": [
        "### Create an empty pandas Series"
      ]
    },
    {
      "cell_type": "code",
      "metadata": {
        "id": "HP51RaLbkg_U",
        "outputId": "b70bf431-67d3-4c2d-a599-e484f926c2e5",
        "colab": {
          "base_uri": "https://localhost:8080/"
        }
      },
      "source": [
        "# your code goes here\n",
        "import pandas as pd\n",
        "series=pd.Series([])\n",
        "series"
      ],
      "execution_count": 2,
      "outputs": [
        {
          "output_type": "stream",
          "name": "stderr",
          "text": [
            "/usr/local/lib/python3.7/dist-packages/ipykernel_launcher.py:4: DeprecationWarning: The default dtype for empty Series will be 'object' instead of 'float64' in a future version. Specify a dtype explicitly to silence this warning.\n",
            "  after removing the cwd from sys.path.\n"
          ]
        },
        {
          "output_type": "execute_result",
          "data": {
            "text/plain": [
              "Series([], dtype: float64)"
            ]
          },
          "metadata": {},
          "execution_count": 2
        }
      ]
    },
    {
      "cell_type": "markdown",
      "metadata": {
        "id": "vgny9-7Lkg_V"
      },
      "source": [
        "\n",
        "\n",
        "### Given the X python list convert it to an Y pandas Series"
      ]
    },
    {
      "cell_type": "code",
      "metadata": {
        "id": "AeZPBg5Ykg_X",
        "outputId": "f83ab343-41fd-42fd-b285-12d16f2914bf",
        "colab": {
          "base_uri": "https://localhost:8080/"
        }
      },
      "source": [
        "# your code goes here\n",
        "myList=[1,2,3,4]\n",
        "mySeries=pd.Series(myList)\n",
        "mySeries\n",
        "\n"
      ],
      "execution_count": 3,
      "outputs": [
        {
          "output_type": "execute_result",
          "data": {
            "text/plain": [
              "0    1\n",
              "1    2\n",
              "2    3\n",
              "3    4\n",
              "dtype: int64"
            ]
          },
          "metadata": {},
          "execution_count": 3
        }
      ]
    },
    {
      "cell_type": "markdown",
      "metadata": {
        "id": "oNj_6mzukg_Y"
      },
      "source": [
        "\n",
        "\n",
        "### Given the X pandas Series, name it 'My letters'"
      ]
    },
    {
      "cell_type": "code",
      "metadata": {
        "id": "C_4czTpXkg_Z",
        "colab": {
          "base_uri": "https://localhost:8080/"
        },
        "outputId": "d93105e3-040b-4880-b35c-83602a4ae7d5"
      },
      "source": [
        "# your code goes here\n",
        "MyLetters=pd.Series([\"AI\",\"Data Science\",\"Web\"])"
      ],
      "execution_count": null,
      "outputs": [
        {
          "output_type": "execute_result",
          "data": {
            "text/plain": [
              "0    1\n",
              "1    2\n",
              "2    3\n",
              "3    4\n",
              "Name: My letters, dtype: int64"
            ]
          },
          "metadata": {},
          "execution_count": 35
        }
      ]
    },
    {
      "cell_type": "markdown",
      "metadata": {
        "id": "W_6yA0dqkg_Z"
      },
      "source": [
        "\n",
        "\n",
        "### Given the X pandas Series, show its values\n"
      ]
    },
    {
      "cell_type": "code",
      "metadata": {
        "id": "SHjKzBVYkg_a",
        "colab": {
          "base_uri": "https://localhost:8080/"
        },
        "outputId": "d1db8a97-5415-4e16-ac92-ededce28b9c9"
      },
      "source": [
        "# your code goes here\n",
        "MyLetters=pd.Series([\"AI\",\"Data Science\",\"Web\"])\n",
        "MyLetters.values"
      ],
      "execution_count": 4,
      "outputs": [
        {
          "output_type": "execute_result",
          "data": {
            "text/plain": [
              "array(['AI', 'Data Science', 'Web'], dtype=object)"
            ]
          },
          "metadata": {},
          "execution_count": 4
        }
      ]
    },
    {
      "cell_type": "markdown",
      "metadata": {
        "id": "FRHJK601kg_a"
      },
      "source": [
        "\n",
        "\n",
        "## Series indexation"
      ]
    },
    {
      "cell_type": "markdown",
      "metadata": {
        "id": "DpJBRV39kg_a"
      },
      "source": [
        "### Assign index names to the given X pandas Series\n"
      ]
    },
    {
      "cell_type": "code",
      "metadata": {
        "id": "LXH7acW3kg_b",
        "colab": {
          "base_uri": "https://localhost:8080/"
        },
        "outputId": "6a7b1e06-5e3a-49b0-d355-836271832f9f"
      },
      "source": [
        "# your code goes here\n",
        "MyLetters=pd.Series([\"AI\",\"Data Science\",\"Web\"])\n",
        "index_series= ['First', 'Second', 'Third']\n",
        "MyLetters.index=index_series\n",
        "MyLetters\n"
      ],
      "execution_count": 5,
      "outputs": [
        {
          "output_type": "execute_result",
          "data": {
            "text/plain": [
              "First               AI\n",
              "Second    Data Science\n",
              "Third              Web\n",
              "dtype: object"
            ]
          },
          "metadata": {},
          "execution_count": 5
        }
      ]
    },
    {
      "cell_type": "markdown",
      "metadata": {
        "id": "fMfDIimmkg_b"
      },
      "source": [
        "\n",
        "\n",
        "### Given the X pandas Series, show its first element\n"
      ]
    },
    {
      "cell_type": "code",
      "metadata": {
        "id": "UkRF0FPvkg_b",
        "colab": {
          "base_uri": "https://localhost:8080/"
        },
        "outputId": "e4fe29ba-f679-40f0-c236-455dd9b709ea"
      },
      "source": [
        "# your code goes here\n",
        "print(MyLetters[0])"
      ],
      "execution_count": 6,
      "outputs": [
        {
          "output_type": "stream",
          "name": "stdout",
          "text": [
            "AI\n"
          ]
        }
      ]
    },
    {
      "cell_type": "markdown",
      "metadata": {
        "id": "43dHNuErkg_c"
      },
      "source": [
        "\n",
        "\n",
        "### Given the X pandas Series, show its last element\n"
      ]
    },
    {
      "cell_type": "code",
      "metadata": {
        "id": "lBS_-m99kg_c",
        "colab": {
          "base_uri": "https://localhost:8080/"
        },
        "outputId": "8f9f0e6f-a595-4b1e-a107-ee798a0fdf31"
      },
      "source": [
        "# your code goes here\n",
        "print(MyLetters[-1])\n"
      ],
      "execution_count": 7,
      "outputs": [
        {
          "output_type": "stream",
          "name": "stdout",
          "text": [
            "Web\n"
          ]
        }
      ]
    },
    {
      "cell_type": "markdown",
      "metadata": {
        "id": "ke2LMl_Nkg_c"
      },
      "source": [
        "\n",
        "\n",
        "### Given the X pandas Series, show all middle elements\n"
      ]
    },
    {
      "cell_type": "code",
      "metadata": {
        "id": "xxNGqQDNkg_c",
        "colab": {
          "base_uri": "https://localhost:8080/"
        },
        "outputId": "e147da46-2271-4e8a-8744-ab4646275fec"
      },
      "source": [
        "# your code goes here\n",
        "print(MyLetters[1:-1])\n"
      ],
      "execution_count": 10,
      "outputs": [
        {
          "output_type": "stream",
          "name": "stdout",
          "text": [
            "Second    Data Science\n",
            "dtype: object\n"
          ]
        }
      ]
    },
    {
      "cell_type": "markdown",
      "metadata": {
        "id": "3AFaeyEWkg_d"
      },
      "source": [
        "\n",
        "\n",
        "### Given the X pandas Series, show the elements in reverse position\n"
      ]
    },
    {
      "cell_type": "code",
      "metadata": {
        "id": "TW0qCPv8kg_d",
        "outputId": "f62b0c5c-dc24-4472-a85e-8f28a50ab4d9",
        "colab": {
          "base_uri": "https://localhost:8080/"
        }
      },
      "source": [
        "# your code goes here\n",
        "print(MyLetters[::-1])\n"
      ],
      "execution_count": 14,
      "outputs": [
        {
          "output_type": "stream",
          "name": "stdout",
          "text": [
            "Third              Web\n",
            "Second    Data Science\n",
            "First               AI\n",
            "dtype: object\n"
          ]
        }
      ]
    },
    {
      "cell_type": "markdown",
      "metadata": {
        "id": "V7nPDpIAkg_d"
      },
      "source": [
        "\n",
        "\n",
        "### Given the X pandas Series, show the first and last elements, in one instruction\n"
      ]
    },
    {
      "cell_type": "code",
      "metadata": {
        "id": "NSuB2o8Fkg_e",
        "colab": {
          "base_uri": "https://localhost:8080/"
        },
        "outputId": "6ace784d-5d0e-4f6c-f664-42f8e7de66ed"
      },
      "source": [
        "# your code goes here\n",
        "print(MyLetters[0],MyLetters[-1])\n"
      ],
      "execution_count": 15,
      "outputs": [
        {
          "output_type": "stream",
          "name": "stdout",
          "text": [
            "AI Web\n"
          ]
        }
      ]
    },
    {
      "cell_type": "markdown",
      "metadata": {
        "id": "6fuC-DZ_kg_e"
      },
      "source": [
        "\n",
        "\n",
        "## Series manipulation"
      ]
    },
    {
      "cell_type": "markdown",
      "metadata": {
        "id": "wyt3wHotkg_e"
      },
      "source": [
        "### Convert the given integer pandas Series to float\n"
      ]
    },
    {
      "cell_type": "code",
      "metadata": {
        "id": "-ygBtVw6kg_e",
        "colab": {
          "base_uri": "https://localhost:8080/"
        },
        "outputId": "1a429d2a-6629-4462-ec19-68462071f663"
      },
      "source": [
        "# your code goes here\n",
        "MySerie=pd.Series([1,2,3,4])\n",
        "float_df=MySerie.astype(float)\n",
        "float_df\n"
      ],
      "execution_count": 18,
      "outputs": [
        {
          "output_type": "execute_result",
          "data": {
            "text/plain": [
              "0    1.0\n",
              "1    2.0\n",
              "2    3.0\n",
              "3    4.0\n",
              "dtype: float64"
            ]
          },
          "metadata": {},
          "execution_count": 18
        }
      ]
    },
    {
      "cell_type": "markdown",
      "metadata": {
        "id": "AzV4SqCdkg_f"
      },
      "source": [
        "\n",
        "\n",
        "### Reverse the given pandas Series (first element becomes last)"
      ]
    },
    {
      "cell_type": "code",
      "metadata": {
        "id": "GJ8eeQBukg_f",
        "colab": {
          "base_uri": "https://localhost:8080/"
        },
        "outputId": "78c7605d-769d-4293-e106-444a6c650225"
      },
      "source": [
        "# your code goes here\n",
        "MySerie=pd.Series([1,2,3,4])\n",
        "MySerie.iloc[::-1]\n"
      ],
      "execution_count": 19,
      "outputs": [
        {
          "output_type": "execute_result",
          "data": {
            "text/plain": [
              "3    4\n",
              "2    3\n",
              "1    2\n",
              "0    1\n",
              "dtype: int64"
            ]
          },
          "metadata": {},
          "execution_count": 19
        }
      ]
    },
    {
      "cell_type": "markdown",
      "metadata": {
        "id": "52IUL9Mrkg_f"
      },
      "source": [
        "\n",
        "\n",
        "### Order (sort) the given pandas Series\n"
      ]
    },
    {
      "cell_type": "code",
      "metadata": {
        "id": "IOi6S-YLkg_f",
        "colab": {
          "base_uri": "https://localhost:8080/"
        },
        "outputId": "118a150a-d9cb-4cc5-d909-f31f6b0e8121"
      },
      "source": [
        "# your code goes here\n",
        "MySerie=pd.Series([1,2,3,4])\n",
        "MySerie.sort_values()"
      ],
      "execution_count": 20,
      "outputs": [
        {
          "output_type": "execute_result",
          "data": {
            "text/plain": [
              "0    1\n",
              "1    2\n",
              "2    3\n",
              "3    4\n",
              "dtype: int64"
            ]
          },
          "metadata": {},
          "execution_count": 20
        }
      ]
    },
    {
      "cell_type": "markdown",
      "metadata": {
        "id": "vJRsoJuzkg_g"
      },
      "source": [
        "\n",
        "\n",
        "### Given the X pandas Series, set the fifth element equal to 10\n"
      ]
    },
    {
      "cell_type": "code",
      "metadata": {
        "id": "pyoFTSN5kg_g",
        "colab": {
          "base_uri": "https://localhost:8080/"
        },
        "outputId": "81608b50-b686-4533-d236-0aa96bf142c8"
      },
      "source": [
        "# your code goes here\n",
        "MySerie=pd.Series([1,2,3,4,5,6,7])\n",
        "MySerie.iloc[4] = 10\n",
        "MySerie\n"
      ],
      "execution_count": 21,
      "outputs": [
        {
          "output_type": "execute_result",
          "data": {
            "text/plain": [
              "0     1\n",
              "1     2\n",
              "2     3\n",
              "3     4\n",
              "4    10\n",
              "5     6\n",
              "6     7\n",
              "dtype: int64"
            ]
          },
          "metadata": {},
          "execution_count": 21
        }
      ]
    },
    {
      "cell_type": "code",
      "metadata": {
        "colab": {
          "base_uri": "https://localhost:8080/"
        },
        "id": "eXQqUhKqXaHj",
        "outputId": "def8471c-fc9b-4212-9d6c-3271fefb3223"
      },
      "source": [
        ""
      ],
      "execution_count": null,
      "outputs": [
        {
          "output_type": "execute_result",
          "data": {
            "text/plain": [
              "A     1\n",
              "B     4\n",
              "C     7\n",
              "D     8\n",
              "E    10\n",
              "F     7\n",
              "dtype: int64"
            ]
          },
          "metadata": {},
          "execution_count": 16
        }
      ]
    },
    {
      "cell_type": "markdown",
      "metadata": {
        "id": "c7NnI4WGkg_g"
      },
      "source": [
        "\n",
        "\n",
        "### Given the X pandas Series, change all the middle elements to 0\n"
      ]
    },
    {
      "cell_type": "code",
      "metadata": {
        "id": "PsOT1nLzkg_g",
        "colab": {
          "base_uri": "https://localhost:8080/"
        },
        "outputId": "e100a88d-0787-4d53-d32c-ca794b8ded6f"
      },
      "source": [
        "# your code goes here\n",
        "MySerie=pd.Series([1,2,3,4,5,6,7])\n",
        "MySerie.iloc[1:-1] = 0\n",
        "MySerie"
      ],
      "execution_count": 25,
      "outputs": [
        {
          "output_type": "execute_result",
          "data": {
            "text/plain": [
              "0    1\n",
              "1    0\n",
              "2    0\n",
              "3    0\n",
              "4    0\n",
              "5    0\n",
              "6    7\n",
              "dtype: int64"
            ]
          },
          "metadata": {},
          "execution_count": 25
        }
      ]
    },
    {
      "cell_type": "markdown",
      "metadata": {
        "id": "QPDIl64akg_h"
      },
      "source": [
        "\n",
        "\n",
        "### Given the X pandas Series, add 5 to every element\n"
      ]
    },
    {
      "cell_type": "code",
      "metadata": {
        "id": "eBdMpUd1kg_h",
        "colab": {
          "base_uri": "https://localhost:8080/"
        },
        "outputId": "0271493d-0b9c-4dcb-8547-a078cf150819"
      },
      "source": [
        "# your code goes here\n",
        "MySerie=pd.Series([1,2,3,4,5,6,7])\n",
        "MySerie.iloc[::]+=1\n",
        "MySerie\n"
      ],
      "execution_count": 26,
      "outputs": [
        {
          "output_type": "execute_result",
          "data": {
            "text/plain": [
              "0    2\n",
              "1    3\n",
              "2    4\n",
              "3    5\n",
              "4    6\n",
              "5    7\n",
              "6    8\n",
              "dtype: int64"
            ]
          },
          "metadata": {},
          "execution_count": 26
        }
      ]
    },
    {
      "cell_type": "markdown",
      "metadata": {
        "id": "pnepp1FLkg_h"
      },
      "source": [
        "\n",
        "\n",
        "## Series boolean arrays (also called masks)"
      ]
    },
    {
      "cell_type": "markdown",
      "metadata": {
        "id": "3KDYGRxDkg_h"
      },
      "source": [
        "### Given the X pandas Series, make a mask showing negative elements\n"
      ]
    },
    {
      "cell_type": "code",
      "metadata": {
        "id": "mDVHhAlWkg_i",
        "colab": {
          "base_uri": "https://localhost:8080/"
        },
        "outputId": "ddfe36b3-a8fd-4f1e-e642-19b9e463f969"
      },
      "source": [
        "# your code goes here\n"
      ],
      "execution_count": null,
      "outputs": [
        {
          "output_type": "execute_result",
          "data": {
            "text/plain": [
              "A    False\n",
              "B    False\n",
              "C    False\n",
              "D    False\n",
              "E    False\n",
              "F    False\n",
              "dtype: bool"
            ]
          },
          "metadata": {},
          "execution_count": 19
        }
      ]
    },
    {
      "cell_type": "markdown",
      "metadata": {
        "id": "SHtH4GRMkg_i"
      },
      "source": [
        "\n",
        "\n",
        "### Given the X pandas Series, get the negative elements\n"
      ]
    },
    {
      "cell_type": "code",
      "metadata": {
        "id": "AuTZ2o0Gkg_i"
      },
      "source": [
        "# your code goes here\n"
      ],
      "execution_count": null,
      "outputs": []
    },
    {
      "cell_type": "markdown",
      "metadata": {
        "id": "7Kg3rmuMkg_i"
      },
      "source": [
        "\n",
        "\n",
        "### Given the X pandas Series, get numbers higher than 5\n"
      ]
    },
    {
      "cell_type": "code",
      "metadata": {
        "id": "5smOR6kTkg_i"
      },
      "source": [
        "# your code goes here\n"
      ],
      "execution_count": null,
      "outputs": []
    },
    {
      "cell_type": "markdown",
      "metadata": {
        "id": "CSxi0w0Ykg_j"
      },
      "source": [
        "\n",
        "\n",
        "### Given the X pandas Series, get numbers higher than the elements mean"
      ]
    },
    {
      "cell_type": "code",
      "metadata": {
        "id": "Pfv6AF-jkg_j"
      },
      "source": [
        "# your code goes here\n"
      ],
      "execution_count": null,
      "outputs": []
    },
    {
      "cell_type": "markdown",
      "metadata": {
        "id": "kLsPXR0Skg_j"
      },
      "source": [
        "\n",
        "\n",
        "### Given the X pandas Series, get numbers equal to 2 or 10\n"
      ]
    },
    {
      "cell_type": "code",
      "metadata": {
        "id": "njiBGWz8kg_k"
      },
      "source": [
        "# your code goes here\n"
      ],
      "execution_count": null,
      "outputs": []
    },
    {
      "cell_type": "markdown",
      "metadata": {
        "id": "1LpxGpJLkg_k"
      },
      "source": [
        "\n",
        "\n",
        "## Logic functions"
      ]
    },
    {
      "cell_type": "markdown",
      "metadata": {
        "id": "YsocSUpykg_k"
      },
      "source": [
        "### Given the X pandas Series, return True if none of its elements is zero"
      ]
    },
    {
      "cell_type": "code",
      "metadata": {
        "id": "JYLRESUwkg_k"
      },
      "source": [
        "# your code goes here\n"
      ],
      "execution_count": null,
      "outputs": []
    },
    {
      "cell_type": "markdown",
      "metadata": {
        "id": "TvS-P_Yhkg_l"
      },
      "source": [
        "\n",
        "\n",
        "### Given the X pandas Series, return True if any of its elements is zero\n"
      ]
    },
    {
      "cell_type": "code",
      "metadata": {
        "id": "vks2VWd5kg_l"
      },
      "source": [
        "# your code goes here\n"
      ],
      "execution_count": null,
      "outputs": []
    },
    {
      "cell_type": "markdown",
      "source": [
        "###Given the X pandas Series, return True if any of its indexes is zero"
      ],
      "metadata": {
        "id": "p3RbXlwXD5C8"
      }
    },
    {
      "cell_type": "code",
      "source": [
        ""
      ],
      "metadata": {
        "id": "w-sqkfhHEDTu"
      },
      "execution_count": null,
      "outputs": []
    },
    {
      "cell_type": "markdown",
      "metadata": {
        "id": "YbnVt975kg_l"
      },
      "source": [
        "\n",
        "\n",
        "## Summary statistics"
      ]
    },
    {
      "cell_type": "markdown",
      "metadata": {
        "id": "pdGeq7s6kg_m"
      },
      "source": [
        "### Given the X pandas Series, show the sum of its elements\n"
      ]
    },
    {
      "cell_type": "code",
      "metadata": {
        "id": "TXYOPKbekg_m"
      },
      "source": [
        "# your code goes here\n"
      ],
      "execution_count": null,
      "outputs": []
    },
    {
      "cell_type": "markdown",
      "metadata": {
        "id": "LfQLlFaXkg_n"
      },
      "source": [
        "\n",
        "\n",
        "### Given the X pandas Series, show the mean value of its elements"
      ]
    },
    {
      "cell_type": "code",
      "metadata": {
        "id": "iOi-4wojkg_n"
      },
      "source": [
        "# your code goes here\n"
      ],
      "execution_count": null,
      "outputs": []
    },
    {
      "cell_type": "markdown",
      "metadata": {
        "id": "TwCA2-JKkg_o"
      },
      "source": [
        "\n",
        "\n",
        "### Given the X pandas Series, show the max value of its elements"
      ]
    },
    {
      "cell_type": "code",
      "metadata": {
        "id": "WFgv-JfAkg_o"
      },
      "source": [
        "# your code goes here\n"
      ],
      "execution_count": null,
      "outputs": []
    }
  ]
}